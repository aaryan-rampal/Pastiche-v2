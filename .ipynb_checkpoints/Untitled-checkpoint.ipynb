{
 "cells": [
  {
   "cell_type": "code",
   "execution_count": 2,
   "id": "7b9172be-b765-417a-a14b-b42e5f23d89e",
   "metadata": {},
   "outputs": [
    {
     "ename": "ModuleNotFoundError",
     "evalue": "No module named 'torch'",
     "output_type": "error",
     "traceback": [
      "\u001b[0;31m---------------------------------------------------------------------------\u001b[0m",
      "\u001b[0;31mModuleNotFoundError\u001b[0m                       Traceback (most recent call last)",
      "Cell \u001b[0;32mIn[2], line 8\u001b[0m\n\u001b[1;32m      6\u001b[0m \u001b[38;5;66;03m# from skimage.feature import hessian_matrix, hessian_matrix_eigvals\u001b[39;00m\n\u001b[1;32m      7\u001b[0m \u001b[38;5;28;01mimport\u001b[39;00m \u001b[38;5;21;01mnumpy\u001b[39;00m \u001b[38;5;28;01mas\u001b[39;00m \u001b[38;5;21;01mnp\u001b[39;00m\n\u001b[0;32m----> 8\u001b[0m \u001b[38;5;28;01mimport\u001b[39;00m \u001b[38;5;21;01mtorch\u001b[39;00m\n\u001b[1;32m      9\u001b[0m \u001b[38;5;28;01mfrom\u001b[39;00m \u001b[38;5;21;01mtorchvision\u001b[39;00m \u001b[38;5;28;01mimport\u001b[39;00m datasets, transforms, models\n",
      "\u001b[0;31mModuleNotFoundError\u001b[0m: No module named 'torch'"
     ]
    }
   ],
   "source": [
    "import deeplake\n",
    "import matplotlib.pyplot as plt\n",
    "import os\n",
    "import cv2, numpy, vptree, PIL\n",
    "import matplotlib.pyplot as plt\n",
    "# from skimage.feature import hessian_matrix, hessian_matrix_eigvals\n",
    "import numpy as np\n",
    "import torch\n",
    "from torchvision import datasets, transforms, models"
   ]
  },
  {
   "cell_type": "code",
   "execution_count": null,
   "id": "05377f22-92da-49e9-a6d2-8b70fb00a7a6",
   "metadata": {},
   "outputs": [],
   "source": [
    "ds = deeplake.load('hub://activeloop/wiki-art')\n",
    "labels_list = ds.labels.info['class_names']"
   ]
  },
  {
   "cell_type": "code",
   "execution_count": null,
   "id": "f1789e48-c6e8-4f17-9553-2e72c401ce3b",
   "metadata": {},
   "outputs": [],
   "source": [
    "tform = transforms.Compose([\n",
    "    # transforms.ToPILImage(), # Must convert to PIL image for subsequent operations to run\n",
    "    transforms.ToTensor(), # Must convert to pytorch tensor for subsequent operations to run\n",
    "    transforms.Normalize([0.5, 0.5, 0.5], [0.5, 0.5, 0.5]),\n",
    "    transforms.Resize([200, 200])\n",
    "])\n",
    "\n",
    "def transform(sample_in):\n",
    "    # sample_in['images'] is of type numpy.ndarray\n",
    "    # print(type(sample_in['images']))\n",
    "    # print(type(tform(sample_in['images'])))\n",
    "    return {'images': tform(sample_in['images']), 'labels': sample_in['labels']}"
   ]
  },
  {
   "cell_type": "code",
   "execution_count": null,
   "id": "da834763-87eb-454a-a018-714bce0b152c",
   "metadata": {},
   "outputs": [],
   "source": [
    "dataloader = ds.pytorch(num_workers=0, batch_size=16, shuffle=False, transform=transform)\n"
   ]
  },
  {
   "cell_type": "code",
   "execution_count": null,
   "id": "6eefb91f-15b2-4315-b75b-85956db2714d",
   "metadata": {},
   "outputs": [],
   "source": [
    "type(dataloader)"
   ]
  },
  {
   "cell_type": "code",
   "execution_count": null,
   "id": "c9bc8771-e8ff-4284-84d9-3312f2c9263d",
   "metadata": {},
   "outputs": [],
   "source": [
    "image = ds.images[0].numpy() # Fetch the first image and return a numpy array\n",
    "type(image)\n",
    "print(image.shape)"
   ]
  },
  {
   "cell_type": "code",
   "execution_count": null,
   "id": "ea27cdb6-20a8-4c84-9b97-3113b4533ced",
   "metadata": {},
   "outputs": [],
   "source": [
    "plt.imshow(image, cmap='gray')\n",
    "plt.axis('off')  # Turn off the axis labels\n",
    "plt.show()"
   ]
  },
  {
   "cell_type": "code",
   "execution_count": null,
   "id": "436319f6-3b8b-429a-b398-150c8116a5b6",
   "metadata": {},
   "outputs": [],
   "source": [
    "def process_batch(batch, edge_detector):\n",
    "    batch_numpy = batch['images'].numpy()\n",
    "    # print(batch_numpy.shape)\n",
    "    transposed_batch = np.transpose(batch_numpy, (0, 2, 3, 1))\n",
    "    # print(transposed_batch.shape)\n",
    "    image = transposed_batch.astype(np.float32) / 255.0\n",
    "    # print(image.shape)\n",
    "\n",
    "    images = np.reshape(image, (16 * 200, 200, 3))\n",
    "    # print(images.shape)\n",
    "    \n",
    "    aha = edge_detector.detectEdges(images)\n",
    "    # print(aha.shape)\n",
    "    return np.reshape(aha, (16, 200, 200))\n",
    "    \n",
    "    edge_list = []\n",
    "    for img in image:\n",
    "        edge_list.append(edge_detector.detectEdges(img))\n",
    "\n",
    "    return edge_list"
   ]
  },
  {
   "cell_type": "code",
   "execution_count": null,
   "id": "d2560198-f095-46fc-bf70-a7fd64686646",
   "metadata": {},
   "outputs": [],
   "source": [
    "import time"
   ]
  },
  {
   "cell_type": "code",
   "execution_count": null,
   "id": "8b49e56d-fd24-4ba4-931e-a781d4bd31c5",
   "metadata": {},
   "outputs": [],
   "source": [
    "edge_list = []\n",
    "og_list = []\n",
    "i = 0\n",
    "edge_detector = cv2.ximgproc.createStructuredEdgeDetection('model.yml')\n",
    "\n",
    "start_time = time.time()\n",
    "for batch in iter(dataloader):\n",
    "    edge_list.extend(process_batch(batch, edge_detector))\n",
    "    og_list.extend(batch['images'].numpy())\n",
    "    break\n",
    "    # i += 1\n",
    "    # if (i == 2):\n",
    "    #     end_time = time.time()\n",
    "    #     break"
   ]
  },
  {
   "cell_type": "code",
   "execution_count": null,
   "id": "ccca82bd-f697-4cb2-8274-5ea27b34efce",
   "metadata": {},
   "outputs": [],
   "source": [
    "print(end_time - start_time)"
   ]
  },
  {
   "cell_type": "code",
   "execution_count": null,
   "id": "e374a023-bbe2-46c5-9631-9ad8937a0459",
   "metadata": {},
   "outputs": [],
   "source": [
    "batch_numpy = test_batch['images'].numpy()\n",
    "# print(batch_numpy.shape)\n",
    "transposed_batch = np.transpose(batch_numpy, (0, 2, 3, 1))\n",
    "# print(transposed_batch.shape)\n",
    "image = transposed_batch.astype(np.float32) / 255.0\n",
    "# print(image.shape)\n",
    "\n",
    "images = np.reshape(image, (16 * 200, 200, 3))\n",
    "# print(images.shape)\n",
    "plot_image(image[0])\n",
    "plot_image(images)\n",
    "plot_image(np.concatenate([image[i] for i in range(image.shape[0])], axis=0))\n"
   ]
  },
  {
   "cell_type": "code",
   "execution_count": null,
   "id": "fefff417-281f-49d2-aa75-d2013bf58d69",
   "metadata": {},
   "outputs": [],
   "source": [
    "im1 = ds.images[27272] # Fetch the first image and return a numpy array\n",
    "print(type(im1))\n",
    "\n",
    "im1_copy = im1"
   ]
  },
  {
   "cell_type": "code",
   "execution_count": null,
   "id": "0bec677c-a966-4d38-8614-52a30c1adcbb",
   "metadata": {},
   "outputs": [],
   "source": [
    "def plot_two(image1, image2):\n",
    "    # Create a figure and axis objects\n",
    "    fig, axes = plt.subplots(1, 2)\n",
    "    \n",
    "    # Plot the first image on the left axis\n",
    "    axes[0].imshow(image1, cmap='gray')\n",
    "\n",
    "    axes[0].set_title('Image 1')\n",
    "    \n",
    "    # Plot the second image on the right axis\n",
    "    axes[1].imshow(image2, cmap='gray')\n",
    "    axes[1].set_title('Image 2')\n",
    "    \n",
    "    # Hide axis ticks and labels\n",
    "    for ax in axes:\n",
    "        ax.axis('off')\n",
    "    \n",
    "    # Show the plot\n",
    "    plt.show()\n"
   ]
  },
  {
   "cell_type": "code",
   "execution_count": null,
   "id": "628b04f4-bdc0-430d-9e67-2121a24c7db3",
   "metadata": {},
   "outputs": [],
   "source": [
    "# for num in range(len(og_list)):\n",
    "#     transposed = np.transpose(og_list[num], (1, 2, 0))\n",
    "#     image = cv2.cvtColor(transposed, cv2.COLOR_BGR2GRAY)\n",
    "#     plot_two(image, edge_list[)"
   ]
  },
  {
   "cell_type": "code",
   "execution_count": null,
   "id": "67f9d006-fdf9-48d2-86f7-3b8835dc5fbf",
   "metadata": {},
   "outputs": [],
   "source": [
    "# for edge in edge_list:\n",
    "#     plot_image(edge)"
   ]
  },
  {
   "cell_type": "code",
   "execution_count": null,
   "id": "9af32290-477f-4333-91fd-e34c4c54c55a",
   "metadata": {},
   "outputs": [],
   "source": [
    "def plot_image(img):\n",
    "    plt.imshow(img, cmap='gray')\n",
    "    plt.axis('off')  # Turn off the axis labels\n",
    "    plt.show()"
   ]
  },
  {
   "cell_type": "code",
   "execution_count": null,
   "id": "2f8e58ba-078e-47cf-89ed-2ab0de7a4911",
   "metadata": {},
   "outputs": [],
   "source": [
    "image = cv2.cvtColor(im1, cv2.COLOR_BGR2GRAY)\n",
    "image = image.astype(np.float32) / 255.0\n",
    "plot_image(image)"
   ]
  },
  {
   "cell_type": "code",
   "execution_count": null,
   "id": "d43026dd-4ced-48fe-a85f-8a44e4a4f3bc",
   "metadata": {},
   "outputs": [],
   "source": [
    "gray = cv2.cvtColor(im1, cv2.COLOR_BGR2GRAY)\n",
    "blurred = cv2.GaussianBlur(gray, (5, 5), 0)"
   ]
  },
  {
   "cell_type": "code",
   "execution_count": null,
   "id": "393fe865-cf09-4474-a2a4-801fc24f4069",
   "metadata": {},
   "outputs": [],
   "source": [
    "plot_image(gray)\n",
    "plot_image(blurred)"
   ]
  },
  {
   "cell_type": "code",
   "execution_count": null,
   "id": "a05aa40d-c328-49fc-9cb9-496ac9e4c0a7",
   "metadata": {},
   "outputs": [],
   "source": [
    "edges = cv2.Canny(gray,100,200)\n",
    "plot_image(edges)"
   ]
  },
  {
   "cell_type": "code",
   "execution_count": null,
   "id": "52854e20-a40c-4e42-a25c-161e3973a260",
   "metadata": {},
   "outputs": [],
   "source": [
    "image = cv2.cvtColor(im1, cv2.COLOR_BGR2RGB)\n",
    "image = image.astype(np.float32) / 255.0\n",
    "\n",
    "edge_detector = cv2.ximgproc.createStructuredEdgeDetection('model.yml')\n",
    "edges = edge_detector.detectEdges(image)"
   ]
  },
  {
   "cell_type": "code",
   "execution_count": null,
   "id": "41076100-5ba0-46b1-a7a1-d2c534945c7d",
   "metadata": {},
   "outputs": [],
   "source": [
    "plot_image(edges)"
   ]
  },
  {
   "cell_type": "code",
   "execution_count": null,
   "id": "2ac770da-089e-4817-8484-73610404fda7",
   "metadata": {},
   "outputs": [],
   "source": []
  },
  {
   "cell_type": "code",
   "execution_count": null,
   "id": "7add52f5-3054-4ec6-8fce-fa7a2c1e4d8b",
   "metadata": {},
   "outputs": [],
   "source": []
  }
 ],
 "metadata": {
  "kernelspec": {
   "display_name": "Python 3 (ipykernel)",
   "language": "python",
   "name": "python3"
  },
  "language_info": {
   "codemirror_mode": {
    "name": "ipython",
    "version": 3
   },
   "file_extension": ".py",
   "mimetype": "text/x-python",
   "name": "python",
   "nbconvert_exporter": "python",
   "pygments_lexer": "ipython3",
   "version": "3.10.12"
  }
 },
 "nbformat": 4,
 "nbformat_minor": 5
}
