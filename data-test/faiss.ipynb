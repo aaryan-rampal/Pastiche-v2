{
 "cells": [
  {
   "cell_type": "code",
   "execution_count": 154,
   "id": "6c60983f-ea66-4bc4-a489-ef953fcab557",
   "metadata": {},
   "outputs": [],
   "source": [
    "import deeplake\n",
    "import matplotlib.pyplot as plt\n",
    "import os\n",
    "import cv2, numpy, vptree, PIL\n",
    "import matplotlib.pyplot as plt\n",
    "import numpy as np\n",
    "import torch\n",
    "from torchvision import datasets, transforms, models\n",
    "import time\n",
    "import tensorflow as tf\n",
    "import faiss"
   ]
  },
  {
   "cell_type": "code",
   "execution_count": 155,
   "id": "420573f3-199b-4dc9-8f58-ba79548b2b87",
   "metadata": {},
   "outputs": [],
   "source": [
    "def plot_image(img):\n",
    "    if (len(img.shape) == 2):\n",
    "        plt.imshow(img, cmap='gray')\n",
    "    else:\n",
    "        plt.imshow(img, interpolation='nearest')\n",
    "    plt.axis('off')\n",
    "    plt.show()"
   ]
  },
  {
   "cell_type": "code",
   "execution_count": 156,
   "id": "eb2a34c1-f0a4-46c1-b49c-e52a8f004926",
   "metadata": {},
   "outputs": [],
   "source": [
    "def plot_many(images):\n",
    "    num_images = len(images)\n",
    "    \n",
    "    # Create a figure and axis objects\n",
    "    fig, axes = plt.subplots(1, num_images, figsize=(12, 4))\n",
    "    \n",
    "    # Plot each image\n",
    "    for i, image in enumerate(images):\n",
    "        axes[i].imshow(image, cmap='gray')\n",
    "        axes[i].set_title(f'Image {i+1}')\n",
    "        axes[i].axis('off')\n",
    "    \n",
    "    # Show the plot\n",
    "    plt.show()\n"
   ]
  },
  {
   "cell_type": "code",
   "execution_count": 157,
   "id": "c755e3ce-26f2-451f-bf03-00017eb6f579",
   "metadata": {},
   "outputs": [],
   "source": [
    "# turns image into the shape (x, x, 3)\n",
    "def reorient_channels(img):\n",
    "    if len(img.shape) == 2:\n",
    "        return img\n",
    "    if len(img.shape) != 3:\n",
    "        raise Exception(\"Image does not have 2 or 3 channels\")\n",
    "\n",
    "    # color_channel = img.shape.index(3)\n",
    "    channels = [-1, -1, -1]\n",
    "    shape = img.shape\n",
    "    for i in range(3):\n",
    "        if shape[i] == 3:\n",
    "            channels[2] = i\n",
    "        else:\n",
    "            idx = channels.index(-1)\n",
    "            channels[idx] = i\n",
    "            \n",
    "    # print(channels)\n",
    "    correct = tf.transpose(img, [channels[0], channels[1], channels[2]])\n",
    "    return correct"
   ]
  },
  {
   "cell_type": "code",
   "execution_count": 158,
   "id": "c29387da-574f-4036-afb9-455aa60ee000",
   "metadata": {},
   "outputs": [],
   "source": [
    "def canny_edge_detection(image, val):\n",
    "    # Apply Gaussian blur\n",
    "    blurred_image = cv2.GaussianBlur(image, (5, 5), 0)\n",
    "    \n",
    "    # Convert to np.uint8\n",
    "    blurred_image_uint8 = np.uint8(blurred_image * 255)\n",
    "    \n",
    "    # Perform Canny edge detection\n",
    "    edges = cv2.Canny(blurred_image_uint8, val, val * 2)\n",
    "    \n",
    "    return edges"
   ]
  },
  {
   "cell_type": "code",
   "execution_count": 159,
   "id": "501101c9-89c2-493d-ab30-040bea7b82aa",
   "metadata": {},
   "outputs": [],
   "source": [
    "edges = torch.load('edges.pt')\n",
    "og = torch.load('og.pt')"
   ]
  },
  {
   "cell_type": "code",
   "execution_count": 160,
   "id": "3b8de499-4153-41c6-bf9b-9181d31052d8",
   "metadata": {},
   "outputs": [],
   "source": [
    "def canny(img, thresh1, thresh2):\n",
    "    img_uint8 = (img.numpy() * 255).astype(np.uint8)\n",
    "    return cv2.Canny(img_uint8, thresh1, thresh2)"
   ]
  },
  {
   "cell_type": "code",
   "execution_count": 163,
   "id": "09109955-a201-4abb-9d15-ebb3902250cf",
   "metadata": {},
   "outputs": [],
   "source": [
    "canny_edges = []\n",
    "\n",
    "for i in range(len(edges)):\n",
    "    val = 30\n",
    "    scaled = (edges[i].numpy() * 255).astype('uint8')\n",
    "    canny = canny_edge_detection(reorient_channels(og[i]).numpy(), 100)\n",
    "    canny_edges.append(canny)\n",
    "    # plot_many([edges[i], cv2.Canny(scaled, val, 2 * val), reorient_channels(og[i]), canny_edge_detection(reorient_channels(og[i]).numpy(), 100)])"
   ]
  },
  {
   "cell_type": "code",
   "execution_count": 164,
   "id": "ba4bc40b-86ad-454c-bbe4-8f0f492a7e7e",
   "metadata": {},
   "outputs": [
    {
     "name": "stdout",
     "output_type": "stream",
     "text": [
      "320 <class 'list'> <class 'numpy.ndarray'>\n"
     ]
    }
   ],
   "source": [
    "print(len(canny_edges), type(canny_edges), type(canny_edges[0]))"
   ]
  },
  {
   "cell_type": "code",
   "execution_count": null,
   "id": "aa95afea-2c04-46f5-9f68-0bcc9629d89d",
   "metadata": {},
   "outputs": [],
   "source": []
  },
  {
   "cell_type": "code",
   "execution_count": 217,
   "id": "fb7abef5-f2fc-4ea5-875c-eb32323faea3",
   "metadata": {},
   "outputs": [],
   "source": [
    "contours, hierarchy = cv2.findContours(canny_edges[0], cv2.RETR_EXTERNAL, cv2.CHAIN_APPROX_NONE)\n",
    "contour_list = []\n",
    "\n",
    "for contour in contours:\n",
    "    if cv2.contourArea(contour) > 35 and cv2.arcLength(contour,-1) > 100:\n",
    "        contour_list.append(contour)"
   ]
  },
  {
   "cell_type": "code",
   "execution_count": 218,
   "id": "36089ee3-3224-4781-bfaf-11113ffaeb27",
   "metadata": {},
   "outputs": [
    {
     "data": {
      "text/plain": [
       "4"
      ]
     },
     "execution_count": 218,
     "metadata": {},
     "output_type": "execute_result"
    }
   ],
   "source": [
    "len(contour_list)"
   ]
  },
  {
   "cell_type": "code",
   "execution_count": 267,
   "id": "6d213cf3-2dfc-43aa-a882-f214562e34c3",
   "metadata": {},
   "outputs": [],
   "source": [
    "descriptor_list = []\n",
    "\n",
    "for i in range(len(canny_edges)):\n",
    "    contours, hierarchy = cv2.findContours(canny_edges[i], cv2.RETR_EXTERNAL, cv2.CHAIN_APPROX_NONE)\n",
    "    contour_list = []\n",
    "    for contour in contours:\n",
    "        if cv2.contourArea(contour) > 35 and cv2.arcLength(contour,-1) > 100:\n",
    "            contour_list.append(contour)\n",
    "        \n",
    "    for idx,item in enumerate(contour_list):\n",
    "        points_tensor = torch.from_numpy(contour_list[idx][:,0,:])\n",
    "        centroid = points_tensor.float().mean(dim=0)\n",
    "        centered_points = (points_tensor - centroid).to(torch.float64)\n",
    "        cnt1 = centered_points.numpy()\n",
    "        scale = np.max(np.abs(cnt1))\n",
    "        # print(scale)\n",
    "        cnt1 /= scale\n",
    "        dft = np.fft.fft(cnt1[:, 0] + 1j * cnt1[:, 1])\n",
    "        descriptors = dft[:10]\n",
    "        real_vectors = np.concatenate((np.real(descriptors), np.imag(descriptors)), axis=0)\n",
    "        descriptor_list.append(real_vectors)"
   ]
  },
  {
   "cell_type": "code",
   "execution_count": 268,
   "id": "5d96ea11-8cde-4f08-8933-e7815e3f3b3c",
   "metadata": {},
   "outputs": [
    {
     "data": {
      "text/plain": [
       "torch.Size([684, 20])"
      ]
     },
     "execution_count": 268,
     "metadata": {},
     "output_type": "execute_result"
    }
   ],
   "source": [
    "a = torch.tensor(np.array(descriptor_list))\n",
    "a.shape"
   ]
  },
  {
   "cell_type": "code",
   "execution_count": 259,
   "id": "661a1718-9680-47dc-a97f-a002f3c37425",
   "metadata": {},
   "outputs": [
    {
     "name": "stdout",
     "output_type": "stream",
     "text": [
      "Index of minimum length descriptor: 39\n",
      "Minimum length: 10\n"
     ]
    }
   ],
   "source": [
    "min_length = 10000\n",
    "min_index = 10000\n",
    "for i, descriptor in enumerate(descriptor_list):\n",
    "    length = len(descriptor)\n",
    "    if length < min_length:\n",
    "        min_length = length\n",
    "        min_index = i\n",
    "\n",
    "print(\"Index of minimum length descriptor:\", min_index)\n",
    "print(\"Minimum length:\", min_length)"
   ]
  },
  {
   "cell_type": "code",
   "execution_count": 129,
   "id": "a6131edb-bb17-4683-9cff-34476c6e52e0",
   "metadata": {},
   "outputs": [
    {
     "name": "stdout",
     "output_type": "stream",
     "text": [
      "[-62.10416667+95.45833333j  -4.77384435 +5.81121127j\n",
      "  -3.49062905 -1.46771675j  -0.17201648 -3.91306889j\n",
      "   1.41958211 +0.41147366j]\n"
     ]
    }
   ],
   "source": [
    "contour = contours[4][:, 0, :]\n",
    "# print(contour)\n",
    "centroid = np.mean(contour[0], axis=0)\n",
    "# print(centroid)\n",
    "normalized_contour = contour - centroid\n",
    "# print(normalized_contour)\n",
    "scale = np.max(np.abs(normalized_contour))\n",
    "normalized_contour /= scale\n",
    "# print(normalized_contour)\n",
    "\n",
    "# Compute DFT\n",
    "dft = np.fft.fft(normalized_contour[:, 0] + 1j * normalized_contour[:, 1])\n",
    "\n",
    "# Select descriptors (e.g., first 10 coefficients)\n",
    "descriptors = dft[:5]\n",
    "print(descriptors)"
   ]
  },
  {
   "cell_type": "code",
   "execution_count": 179,
   "id": "2cb2dc0e-e7a8-4975-ba9a-7341fd2f4769",
   "metadata": {},
   "outputs": [],
   "source": [
    "# output_dir = 'test'\n",
    "# tensor = torch.zeros(len(contours), 128, 128)\n",
    "# for i, contour in enumerate(contours):\n",
    "#     arr = np.array(sublist)\n",
    "#     #print(arr)\n",
    "\n",
    "#     min_x = np.min(arr[:, :, 0])  # Minimum of the first digit (x-coordinate)\n",
    "#     min_y = np.min(arr[:, :, 1])  # Minimum of the second digit (y-coordinate)\n",
    "#     arr[:, :, 0] -= min_x\n",
    "#     arr[:, :, 1] -= min_y\n",
    "\n",
    "#     arr = arr.reshape(-1, 2)\n",
    "    \n",
    "#     y_indices = contour[:, 0, 1]  # Extract y-coordinates\n",
    "#     x_indices = contour[:, 0, 0]  # Extract x-coordinates\n",
    "#     tensor[i, y_indices, x_indices] = 1\n",
    "#     arr = tensor[i].numpy()\n",
    "\n",
    "#     # Define the filename for the np file\n",
    "#     filename = os.path.join(output_dir, f\"array_{i}.jpg\")\n",
    "#     metadata_filename = os.path.join(output_dir, f\"array_{i}.dat\")\n",
    "#     min_coords = np.array([min_x, min_y])\n",
    "    \n",
    "    \n",
    "#     # Save the numpy array to the file\n",
    "#     # np.save(filename, arr)\n",
    "#     cv2.imwrite(filename, arr)\n",
    "#     # np.save(metadata_filename, min_coords)"
   ]
  },
  {
   "cell_type": "code",
   "execution_count": 109,
   "id": "a5b83e8b-096b-4e83-ac5d-2675a253789d",
   "metadata": {},
   "outputs": [
    {
     "ename": "error",
     "evalue": "OpenCV(4.9.0) /io/opencv/modules/core/src/matrix_c.cpp:190: error: (-5:Bad argument) Unknown array type in function 'cvarrToMat'\n",
     "output_type": "error",
     "traceback": [
      "\u001b[0;31m---------------------------------------------------------------------------\u001b[0m",
      "\u001b[0;31merror\u001b[0m                                     Traceback (most recent call last)",
      "Cell \u001b[0;32mIn[109], line 8\u001b[0m\n\u001b[1;32m      5\u001b[0m contour_image \u001b[38;5;241m=\u001b[39m np\u001b[38;5;241m.\u001b[39mzeros((\u001b[38;5;241m1\u001b[39m,) \u001b[38;5;241m+\u001b[39m contour_shape, dtype\u001b[38;5;241m=\u001b[39mnp\u001b[38;5;241m.\u001b[39muint8)\n\u001b[1;32m      7\u001b[0m \u001b[38;5;66;03m# Draw the current contour on the blank image\u001b[39;00m\n\u001b[0;32m----> 8\u001b[0m \u001b[43mcv2\u001b[49m\u001b[38;5;241;43m.\u001b[39;49m\u001b[43mdrawContours\u001b[49m\u001b[43m(\u001b[49m\u001b[43mcontour_image\u001b[49m\u001b[43m,\u001b[49m\u001b[43m \u001b[49m\u001b[43m[\u001b[49m\u001b[43mcontour\u001b[49m\u001b[43m]\u001b[49m\u001b[43m,\u001b[49m\u001b[43m \u001b[49m\u001b[38;5;241;43m-\u001b[39;49m\u001b[38;5;241;43m1\u001b[39;49m\u001b[43m,\u001b[49m\u001b[43m \u001b[49m\u001b[43m(\u001b[49m\u001b[38;5;241;43m255\u001b[39;49m\u001b[43m,\u001b[49m\u001b[43m \u001b[49m\u001b[38;5;241;43m255\u001b[39;49m\u001b[43m,\u001b[49m\u001b[43m \u001b[49m\u001b[38;5;241;43m255\u001b[39;49m\u001b[43m)\u001b[49m\u001b[43m,\u001b[49m\u001b[43m \u001b[49m\u001b[43mthickness\u001b[49m\u001b[38;5;241;43m=\u001b[39;49m\u001b[43mcv2\u001b[49m\u001b[38;5;241;43m.\u001b[39;49m\u001b[43mFILLED\u001b[49m\u001b[43m)\u001b[49m\n\u001b[1;32m     10\u001b[0m \u001b[38;5;66;03m# Save the contour image to a separate file\u001b[39;00m\n\u001b[1;32m     11\u001b[0m contour_filename \u001b[38;5;241m=\u001b[39m os\u001b[38;5;241m.\u001b[39mpath\u001b[38;5;241m.\u001b[39mjoin(output_dir, \u001b[38;5;124mf\u001b[39m\u001b[38;5;124m'\u001b[39m\u001b[38;5;124mcontour_\u001b[39m\u001b[38;5;132;01m{\u001b[39;00mi\u001b[38;5;132;01m}\u001b[39;00m\u001b[38;5;124m.jpg\u001b[39m\u001b[38;5;124m'\u001b[39m)\n",
      "\u001b[0;31merror\u001b[0m: OpenCV(4.9.0) /io/opencv/modules/core/src/matrix_c.cpp:190: error: (-5:Bad argument) Unknown array type in function 'cvarrToMat'\n"
     ]
    }
   ],
   "source": [
    "for i, contour in enumerate(contours):\n",
    "    contour_shape = contours[0].shape\n",
    "    # \n",
    "    # Create a zero array with the same shape as contours[0], plus an additional dimension\n",
    "    contour_image = np.zeros((1,) + contour_shape, dtype=np.uint8)\n",
    "\n",
    "    # Draw the current contour on the blank image\n",
    "    cv2.drawContours(contour_image, [contour], -1, (255, 255, 255), thickness=cv2.FILLED)\n",
    "\n",
    "    # Save the contour image to a separate file\n",
    "    contour_filename = os.path.join(output_dir, f'contour_{i}.jpg')\n",
    "    cv2.imwrite(contour_filename, contour_image)\n"
   ]
  },
  {
   "cell_type": "code",
   "execution_count": 88,
   "id": "a84a9fd2-7007-4d1e-be7f-807368e6e887",
   "metadata": {},
   "outputs": [
    {
     "data": {
      "text/plain": [
       "torch.Size([128, 128])"
      ]
     },
     "execution_count": 88,
     "metadata": {},
     "output_type": "execute_result"
    }
   ],
   "source": [
    "tensor[0].shape"
   ]
  },
  {
   "cell_type": "code",
   "execution_count": 183,
   "id": "970e44cd-b427-4c18-b5d7-45e6123ee219",
   "metadata": {},
   "outputs": [],
   "source": [
    "im = canny_edges[4].numpy()\n",
    "assert im is not None, \"file could not be read, check with os.path.exists()\"\n",
    "# imgray = cv2.cvtColor(im, cv.COLOR_BGR2GRAY)\n",
    "# ret, thresh = cv2.threshold(imgray, 127, 255, 0)\n",
    "contours, hierarchy = cv2.findContours(im, cv2.RETR_EXTERNAL, cv2.CHAIN_APPROX_NONE)\n",
    "\n",
    "# contour_list = []\n",
    "\n",
    "# for contour in contours:\n",
    "#     if cv2.contourArea(contour) > 35 and cv2.arcLength(contour,-1) > 100:\n",
    "#         contour_list.append(contour)\n"
   ]
  },
  {
   "cell_type": "code",
   "execution_count": 184,
   "id": "f6d39da2-0e5e-4bb4-9167-5b3f0fcad11a",
   "metadata": {},
   "outputs": [],
   "source": [
    "# plot_image(cv2.drawContours(im, contouer_list, -1, (0,255,0), 3))"
   ]
  },
  {
   "cell_type": "code",
   "execution_count": 185,
   "id": "a8fac55a-0cd4-4fb4-89c1-68187f670e7b",
   "metadata": {},
   "outputs": [],
   "source": [
    "# np.where(canny_edges[2].numpy())"
   ]
  },
  {
   "cell_type": "code",
   "execution_count": 186,
   "id": "e474ee4a-ede1-4e44-8762-734a373ac5b3",
   "metadata": {},
   "outputs": [
    {
     "data": {
      "image/png": "[encoded data removed]",
      "text/plain": [
       "<Figure size 640x480 with 1 Axes>"
      ]
     },
     "metadata": {},
     "output_type": "display_data"
    }
   ],
   "source": [
    "plot_image(im)"
   ]
  },
  {
   "cell_type": "code",
   "execution_count": 190,
   "id": "6c6dd2d7-523d-4000-8051-999501afbd34",
   "metadata": {},
   "outputs": [],
   "source": [
    "source_img = np.zeros((128, 128, 3), dtype=np.uint8)\n",
    "\n",
    "# cv2.drawContours(source_img, contour_list, 3, (0,255,0), 1)\n",
    "\n",
    "for idx, item in enumerate(contours):\n",
    "    source_img = np.zeros((128, 128, 3), dtype=np.uint8)\n",
    "    filename = os.path.join(output_dir, f\"array_{idx}.jpg\")\n",
    "    cv2.imwrite(filename, cv2.drawContours(source_img, contours, idx, (0,255,0), 1))"
   ]
  },
  {
   "cell_type": "code",
   "execution_count": 188,
   "id": "3d006705-3939-44e3-b075-70090ac80167",
   "metadata": {},
   "outputs": [
    {
     "name": "stdout",
     "output_type": "stream",
     "text": [
      "3\n"
     ]
    }
   ],
   "source": [
    "print(len(contour_list))"
   ]
  },
  {
   "cell_type": "code",
   "execution_count": 198,
   "id": "5cdc376c-3cde-4e64-9a09-6fc1f645d11d",
   "metadata": {},
   "outputs": [],
   "source": [
    "\n",
    "# Create an empty tensor to store the binary masks\n",
    "tensor_list = []\n",
    "\n",
    "for idx, item in enumerate(contours):\n",
    "    # Create a tensor of zeros with shape (128, 128)\n",
    "    tensor = torch.zeros(128, 128)\n",
    "    \n",
    "    # Set the specified indices to 1\n",
    "    for point in item:\n",
    "        y, x = point[0]  # Extract y and x coordinates\n",
    "        tensor[x, y] = 1  # Set the value at the specified indices to 1\n",
    "    \n",
    "    # Append the tensor to the tensor list\n",
    "    tensor_list.append(tensor)\n",
    "\n",
    "# Stack the tensors along a new dimension to create the ultimate tensor\n",
    "ultimate_tensor = torch.stack(tensor_list)\n"
   ]
  },
  {
   "cell_type": "code",
   "execution_count": 199,
   "id": "cf733938-e90c-4a73-a89c-1c8a8f2f711a",
   "metadata": {},
   "outputs": [
    {
     "name": "stdout",
     "output_type": "stream",
     "text": [
      "tensor([0., 0., 0., 0., 0., 0., 0., 0., 0., 0., 0., 0., 0., 0., 0., 0., 0., 0.,\n",
      "        0., 0., 0., 0., 0., 0., 0., 0., 0., 0., 0., 0., 0., 0., 0., 0., 0., 0.,\n",
      "        0., 0., 0., 0., 0., 0., 0., 0., 0., 0., 0., 0., 0., 0., 0., 0., 0., 0.,\n",
      "        0., 0., 0., 0., 0., 0., 0., 0., 0., 0., 0., 0., 0., 0., 0., 0., 0., 0.,\n",
      "        0., 0., 0., 0., 0., 0., 0., 0., 0., 0., 0., 0., 0., 0., 0., 0., 0., 0.,\n",
      "        0., 0., 0., 0., 0., 0., 0., 0., 0., 0., 0., 0., 0., 0., 0., 0., 0., 0.,\n",
      "        0., 0., 1., 1., 1., 0., 0., 0., 0., 0., 0., 0., 0., 0., 0., 0., 0., 0.,\n",
      "        0., 0.])\n"
     ]
    }
   ],
   "source": [
    "print(ultimate_tensor[0][120])"
   ]
  },
  {
   "cell_type": "code",
   "execution_count": 200,
   "id": "2c325bac-bfdc-49d1-985b-84793044c663",
   "metadata": {},
   "outputs": [
    {
     "data": {
      "text/plain": [
       "tensor([[0., 0., 0.,  ..., 0., 0., 0.],\n",
       "        [0., 0., 0.,  ..., 0., 0., 0.],\n",
       "        [0., 0., 0.,  ..., 0., 0., 0.],\n",
       "        ...,\n",
       "        [0., 0., 0.,  ..., 0., 0., 0.],\n",
       "        [0., 0., 0.,  ..., 0., 0., 0.],\n",
       "        [0., 0., 0.,  ..., 0., 0., 0.]])"
      ]
     },
     "execution_count": 200,
     "metadata": {},
     "output_type": "execute_result"
    }
   ],
   "source": [
    "ultimate_tensor[0]"
   ]
  },
  {
   "cell_type": "code",
   "execution_count": 97,
   "id": "da484117-1213-405d-b9b2-e7932e011def",
   "metadata": {},
   "outputs": [
    {
     "data": {
      "text/plain": [
       "(128, 128)"
      ]
     },
     "execution_count": 97,
     "metadata": {},
     "output_type": "execute_result"
    }
   ],
   "source": [
    "arr = contours[0][:,-1]\n",
    "# Create an empty boolean array\n",
    "array = np.zeros((128, 128), dtype=int)\n",
    "\n",
    "# Set coordinates to True\n",
    "array[arr[:, 0], arr[:, 1]] = 1\n",
    "array.shape"
   ]
  },
  {
   "cell_type": "code",
   "execution_count": 98,
   "id": "a97e3dc2-890a-4f63-8399-9f4b4aedee80",
   "metadata": {},
   "outputs": [
    {
     "data": {
      "text/plain": [
       "(1, 3, 128, 128)"
      ]
     },
     "execution_count": 98,
     "metadata": {},
     "output_type": "execute_result"
    }
   ],
   "source": [
    "rgb_image = np.expand_dims(array, axis=0)\n",
    "rgb_image = np.repeat(rgb_image, 3, axis=0)\n",
    "rgb_image = np.expand_dims(rgb_image, axis = 0)\n",
    "rgb_image.shape"
   ]
  },
  {
   "cell_type": "code",
   "execution_count": 180,
   "id": "2c272c4e-97ff-470d-96ff-480802a55ecf",
   "metadata": {},
   "outputs": [],
   "source": [
    "# contour"
   ]
  },
  {
   "cell_type": "code",
   "execution_count": 136,
   "id": "85f14319-693d-4c5c-a041-63f6035fd2e8",
   "metadata": {},
   "outputs": [
    {
     "name": "stdout",
     "output_type": "stream",
     "text": [
      "(1, 5)\n"
     ]
    }
   ],
   "source": [
    "print(np.expand_dims(descriptors, axis=0).shape)"
   ]
  },
  {
   "cell_type": "code",
   "execution_count": 110,
   "id": "b32f003e-1b09-4f34-b7c6-93f934d485ef",
   "metadata": {},
   "outputs": [
    {
     "name": "stdout",
     "output_type": "stream",
     "text": [
      "torch.Size([1, 3, 224, 224])\n",
      "(3, 128, 128)\n"
     ]
    },
    {
     "ename": "RuntimeError",
     "evalue": "expected scalar type Int but found Float",
     "output_type": "error",
     "traceback": [
      "\u001b[0;31m---------------------------------------------------------------------------\u001b[0m",
      "\u001b[0;31mRuntimeError\u001b[0m                              Traceback (most recent call last)",
      "Cell \u001b[0;32mIn[110], line 11\u001b[0m\n\u001b[1;32m      9\u001b[0m \u001b[38;5;28mprint\u001b[39m(og[\u001b[38;5;241m0\u001b[39m]\u001b[38;5;241m.\u001b[39mshape)\n\u001b[1;32m     10\u001b[0m \u001b[38;5;66;03m# print(og)\u001b[39;00m\n\u001b[0;32m---> 11\u001b[0m output \u001b[38;5;241m=\u001b[39m \u001b[43mfeature_extractor\u001b[49m\u001b[43m(\u001b[49m\u001b[43mtorch\u001b[49m\u001b[38;5;241;43m.\u001b[39;49m\u001b[43mtensor\u001b[49m\u001b[43m(\u001b[49m\u001b[43mrgb_image\u001b[49m\u001b[43m)\u001b[49m\u001b[38;5;241;43m.\u001b[39;49m\u001b[43mto\u001b[49m\u001b[43m(\u001b[49m\u001b[43mtorch\u001b[49m\u001b[38;5;241;43m.\u001b[39;49m\u001b[43mint32\u001b[49m\u001b[43m)\u001b[49m\u001b[43m)\u001b[49m \u001b[38;5;66;03m# output now has the features corresponding to input x\u001b[39;00m\n\u001b[1;32m     12\u001b[0m \u001b[38;5;28mprint\u001b[39m(output\u001b[38;5;241m.\u001b[39mshape)\n",
      "File \u001b[0;32m~/miniconda3/lib/python3.11/site-packages/torch/nn/modules/module.py:1511\u001b[0m, in \u001b[0;36mModule._wrapped_call_impl\u001b[0;34m(self, *args, **kwargs)\u001b[0m\n\u001b[1;32m   1509\u001b[0m     \u001b[38;5;28;01mreturn\u001b[39;00m \u001b[38;5;28mself\u001b[39m\u001b[38;5;241m.\u001b[39m_compiled_call_impl(\u001b[38;5;241m*\u001b[39margs, \u001b[38;5;241m*\u001b[39m\u001b[38;5;241m*\u001b[39mkwargs)  \u001b[38;5;66;03m# type: ignore[misc]\u001b[39;00m\n\u001b[1;32m   1510\u001b[0m \u001b[38;5;28;01melse\u001b[39;00m:\n\u001b[0;32m-> 1511\u001b[0m     \u001b[38;5;28;01mreturn\u001b[39;00m \u001b[38;5;28;43mself\u001b[39;49m\u001b[38;5;241;43m.\u001b[39;49m\u001b[43m_call_impl\u001b[49m\u001b[43m(\u001b[49m\u001b[38;5;241;43m*\u001b[39;49m\u001b[43margs\u001b[49m\u001b[43m,\u001b[49m\u001b[43m \u001b[49m\u001b[38;5;241;43m*\u001b[39;49m\u001b[38;5;241;43m*\u001b[39;49m\u001b[43mkwargs\u001b[49m\u001b[43m)\u001b[49m\n",
      "File \u001b[0;32m~/miniconda3/lib/python3.11/site-packages/torch/nn/modules/module.py:1520\u001b[0m, in \u001b[0;36mModule._call_impl\u001b[0;34m(self, *args, **kwargs)\u001b[0m\n\u001b[1;32m   1515\u001b[0m \u001b[38;5;66;03m# If we don't have any hooks, we want to skip the rest of the logic in\u001b[39;00m\n\u001b[1;32m   1516\u001b[0m \u001b[38;5;66;03m# this function, and just call forward.\u001b[39;00m\n\u001b[1;32m   1517\u001b[0m \u001b[38;5;28;01mif\u001b[39;00m \u001b[38;5;129;01mnot\u001b[39;00m (\u001b[38;5;28mself\u001b[39m\u001b[38;5;241m.\u001b[39m_backward_hooks \u001b[38;5;129;01mor\u001b[39;00m \u001b[38;5;28mself\u001b[39m\u001b[38;5;241m.\u001b[39m_backward_pre_hooks \u001b[38;5;129;01mor\u001b[39;00m \u001b[38;5;28mself\u001b[39m\u001b[38;5;241m.\u001b[39m_forward_hooks \u001b[38;5;129;01mor\u001b[39;00m \u001b[38;5;28mself\u001b[39m\u001b[38;5;241m.\u001b[39m_forward_pre_hooks\n\u001b[1;32m   1518\u001b[0m         \u001b[38;5;129;01mor\u001b[39;00m _global_backward_pre_hooks \u001b[38;5;129;01mor\u001b[39;00m _global_backward_hooks\n\u001b[1;32m   1519\u001b[0m         \u001b[38;5;129;01mor\u001b[39;00m _global_forward_hooks \u001b[38;5;129;01mor\u001b[39;00m _global_forward_pre_hooks):\n\u001b[0;32m-> 1520\u001b[0m     \u001b[38;5;28;01mreturn\u001b[39;00m \u001b[43mforward_call\u001b[49m\u001b[43m(\u001b[49m\u001b[38;5;241;43m*\u001b[39;49m\u001b[43margs\u001b[49m\u001b[43m,\u001b[49m\u001b[43m \u001b[49m\u001b[38;5;241;43m*\u001b[39;49m\u001b[38;5;241;43m*\u001b[39;49m\u001b[43mkwargs\u001b[49m\u001b[43m)\u001b[49m\n\u001b[1;32m   1522\u001b[0m \u001b[38;5;28;01mtry\u001b[39;00m:\n\u001b[1;32m   1523\u001b[0m     result \u001b[38;5;241m=\u001b[39m \u001b[38;5;28;01mNone\u001b[39;00m\n",
      "File \u001b[0;32m~/miniconda3/lib/python3.11/site-packages/torch/nn/modules/container.py:217\u001b[0m, in \u001b[0;36mSequential.forward\u001b[0;34m(self, input)\u001b[0m\n\u001b[1;32m    215\u001b[0m \u001b[38;5;28;01mdef\u001b[39;00m \u001b[38;5;21mforward\u001b[39m(\u001b[38;5;28mself\u001b[39m, \u001b[38;5;28minput\u001b[39m):\n\u001b[1;32m    216\u001b[0m     \u001b[38;5;28;01mfor\u001b[39;00m module \u001b[38;5;129;01min\u001b[39;00m \u001b[38;5;28mself\u001b[39m:\n\u001b[0;32m--> 217\u001b[0m         \u001b[38;5;28minput\u001b[39m \u001b[38;5;241m=\u001b[39m \u001b[43mmodule\u001b[49m\u001b[43m(\u001b[49m\u001b[38;5;28;43minput\u001b[39;49m\u001b[43m)\u001b[49m\n\u001b[1;32m    218\u001b[0m     \u001b[38;5;28;01mreturn\u001b[39;00m \u001b[38;5;28minput\u001b[39m\n",
      "File \u001b[0;32m~/miniconda3/lib/python3.11/site-packages/torch/nn/modules/module.py:1511\u001b[0m, in \u001b[0;36mModule._wrapped_call_impl\u001b[0;34m(self, *args, **kwargs)\u001b[0m\n\u001b[1;32m   1509\u001b[0m     \u001b[38;5;28;01mreturn\u001b[39;00m \u001b[38;5;28mself\u001b[39m\u001b[38;5;241m.\u001b[39m_compiled_call_impl(\u001b[38;5;241m*\u001b[39margs, \u001b[38;5;241m*\u001b[39m\u001b[38;5;241m*\u001b[39mkwargs)  \u001b[38;5;66;03m# type: ignore[misc]\u001b[39;00m\n\u001b[1;32m   1510\u001b[0m \u001b[38;5;28;01melse\u001b[39;00m:\n\u001b[0;32m-> 1511\u001b[0m     \u001b[38;5;28;01mreturn\u001b[39;00m \u001b[38;5;28;43mself\u001b[39;49m\u001b[38;5;241;43m.\u001b[39;49m\u001b[43m_call_impl\u001b[49m\u001b[43m(\u001b[49m\u001b[38;5;241;43m*\u001b[39;49m\u001b[43margs\u001b[49m\u001b[43m,\u001b[49m\u001b[43m \u001b[49m\u001b[38;5;241;43m*\u001b[39;49m\u001b[38;5;241;43m*\u001b[39;49m\u001b[43mkwargs\u001b[49m\u001b[43m)\u001b[49m\n",
      "File \u001b[0;32m~/miniconda3/lib/python3.11/site-packages/torch/nn/modules/module.py:1520\u001b[0m, in \u001b[0;36mModule._call_impl\u001b[0;34m(self, *args, **kwargs)\u001b[0m\n\u001b[1;32m   1515\u001b[0m \u001b[38;5;66;03m# If we don't have any hooks, we want to skip the rest of the logic in\u001b[39;00m\n\u001b[1;32m   1516\u001b[0m \u001b[38;5;66;03m# this function, and just call forward.\u001b[39;00m\n\u001b[1;32m   1517\u001b[0m \u001b[38;5;28;01mif\u001b[39;00m \u001b[38;5;129;01mnot\u001b[39;00m (\u001b[38;5;28mself\u001b[39m\u001b[38;5;241m.\u001b[39m_backward_hooks \u001b[38;5;129;01mor\u001b[39;00m \u001b[38;5;28mself\u001b[39m\u001b[38;5;241m.\u001b[39m_backward_pre_hooks \u001b[38;5;129;01mor\u001b[39;00m \u001b[38;5;28mself\u001b[39m\u001b[38;5;241m.\u001b[39m_forward_hooks \u001b[38;5;129;01mor\u001b[39;00m \u001b[38;5;28mself\u001b[39m\u001b[38;5;241m.\u001b[39m_forward_pre_hooks\n\u001b[1;32m   1518\u001b[0m         \u001b[38;5;129;01mor\u001b[39;00m _global_backward_pre_hooks \u001b[38;5;129;01mor\u001b[39;00m _global_backward_hooks\n\u001b[1;32m   1519\u001b[0m         \u001b[38;5;129;01mor\u001b[39;00m _global_forward_hooks \u001b[38;5;129;01mor\u001b[39;00m _global_forward_pre_hooks):\n\u001b[0;32m-> 1520\u001b[0m     \u001b[38;5;28;01mreturn\u001b[39;00m \u001b[43mforward_call\u001b[49m\u001b[43m(\u001b[49m\u001b[38;5;241;43m*\u001b[39;49m\u001b[43margs\u001b[49m\u001b[43m,\u001b[49m\u001b[43m \u001b[49m\u001b[38;5;241;43m*\u001b[39;49m\u001b[38;5;241;43m*\u001b[39;49m\u001b[43mkwargs\u001b[49m\u001b[43m)\u001b[49m\n\u001b[1;32m   1522\u001b[0m \u001b[38;5;28;01mtry\u001b[39;00m:\n\u001b[1;32m   1523\u001b[0m     result \u001b[38;5;241m=\u001b[39m \u001b[38;5;28;01mNone\u001b[39;00m\n",
      "File \u001b[0;32m~/miniconda3/lib/python3.11/site-packages/torch/nn/modules/conv.py:460\u001b[0m, in \u001b[0;36mConv2d.forward\u001b[0;34m(self, input)\u001b[0m\n\u001b[1;32m    459\u001b[0m \u001b[38;5;28;01mdef\u001b[39;00m \u001b[38;5;21mforward\u001b[39m(\u001b[38;5;28mself\u001b[39m, \u001b[38;5;28minput\u001b[39m: Tensor) \u001b[38;5;241m-\u001b[39m\u001b[38;5;241m>\u001b[39m Tensor:\n\u001b[0;32m--> 460\u001b[0m     \u001b[38;5;28;01mreturn\u001b[39;00m \u001b[38;5;28;43mself\u001b[39;49m\u001b[38;5;241;43m.\u001b[39;49m\u001b[43m_conv_forward\u001b[49m\u001b[43m(\u001b[49m\u001b[38;5;28;43minput\u001b[39;49m\u001b[43m,\u001b[49m\u001b[43m \u001b[49m\u001b[38;5;28;43mself\u001b[39;49m\u001b[38;5;241;43m.\u001b[39;49m\u001b[43mweight\u001b[49m\u001b[43m,\u001b[49m\u001b[43m \u001b[49m\u001b[38;5;28;43mself\u001b[39;49m\u001b[38;5;241;43m.\u001b[39;49m\u001b[43mbias\u001b[49m\u001b[43m)\u001b[49m\n",
      "File \u001b[0;32m~/miniconda3/lib/python3.11/site-packages/torch/nn/modules/conv.py:456\u001b[0m, in \u001b[0;36mConv2d._conv_forward\u001b[0;34m(self, input, weight, bias)\u001b[0m\n\u001b[1;32m    452\u001b[0m \u001b[38;5;28;01mif\u001b[39;00m \u001b[38;5;28mself\u001b[39m\u001b[38;5;241m.\u001b[39mpadding_mode \u001b[38;5;241m!=\u001b[39m \u001b[38;5;124m'\u001b[39m\u001b[38;5;124mzeros\u001b[39m\u001b[38;5;124m'\u001b[39m:\n\u001b[1;32m    453\u001b[0m     \u001b[38;5;28;01mreturn\u001b[39;00m F\u001b[38;5;241m.\u001b[39mconv2d(F\u001b[38;5;241m.\u001b[39mpad(\u001b[38;5;28minput\u001b[39m, \u001b[38;5;28mself\u001b[39m\u001b[38;5;241m.\u001b[39m_reversed_padding_repeated_twice, mode\u001b[38;5;241m=\u001b[39m\u001b[38;5;28mself\u001b[39m\u001b[38;5;241m.\u001b[39mpadding_mode),\n\u001b[1;32m    454\u001b[0m                     weight, bias, \u001b[38;5;28mself\u001b[39m\u001b[38;5;241m.\u001b[39mstride,\n\u001b[1;32m    455\u001b[0m                     _pair(\u001b[38;5;241m0\u001b[39m), \u001b[38;5;28mself\u001b[39m\u001b[38;5;241m.\u001b[39mdilation, \u001b[38;5;28mself\u001b[39m\u001b[38;5;241m.\u001b[39mgroups)\n\u001b[0;32m--> 456\u001b[0m \u001b[38;5;28;01mreturn\u001b[39;00m \u001b[43mF\u001b[49m\u001b[38;5;241;43m.\u001b[39;49m\u001b[43mconv2d\u001b[49m\u001b[43m(\u001b[49m\u001b[38;5;28;43minput\u001b[39;49m\u001b[43m,\u001b[49m\u001b[43m \u001b[49m\u001b[43mweight\u001b[49m\u001b[43m,\u001b[49m\u001b[43m \u001b[49m\u001b[43mbias\u001b[49m\u001b[43m,\u001b[49m\u001b[43m \u001b[49m\u001b[38;5;28;43mself\u001b[39;49m\u001b[38;5;241;43m.\u001b[39;49m\u001b[43mstride\u001b[49m\u001b[43m,\u001b[49m\n\u001b[1;32m    457\u001b[0m \u001b[43m                \u001b[49m\u001b[38;5;28;43mself\u001b[39;49m\u001b[38;5;241;43m.\u001b[39;49m\u001b[43mpadding\u001b[49m\u001b[43m,\u001b[49m\u001b[43m \u001b[49m\u001b[38;5;28;43mself\u001b[39;49m\u001b[38;5;241;43m.\u001b[39;49m\u001b[43mdilation\u001b[49m\u001b[43m,\u001b[49m\u001b[43m \u001b[49m\u001b[38;5;28;43mself\u001b[39;49m\u001b[38;5;241;43m.\u001b[39;49m\u001b[43mgroups\u001b[49m\u001b[43m)\u001b[49m\n",
      "\u001b[0;31mRuntimeError\u001b[0m: expected scalar type Int but found Float"
     ]
    }
   ],
   "source": [
    "model_ft = models.resnet18(pretrained=True)\n",
    "### strip the last layer\n",
    "feature_extractor = torch.nn.Sequential(*list(model_ft.children())[:-1])\n",
    "### check this works\n",
    "x = torch.randn([1,3,224,224])\n",
    "print(x.shape)\n",
    "\n",
    "# print(x)\n",
    "print(og[0].shape)\n",
    "# print(og)\n",
    "output = feature_extractor(torch.tensor(rgb_image).to(torch.int32)) # output now has the features corresponding to input x\n",
    "print(output.shape)"
   ]
  },
  {
   "cell_type": "code",
   "execution_count": 221,
   "id": "66baa3c3-baa1-413c-b2e8-93fa2bc4d9a7",
   "metadata": {},
   "outputs": [],
   "source": [
    "nlist = 100\n",
    "k = 4\n",
    "quantizer = faiss.IndexFlatL2(d)  # the other index\n",
    "index = faiss.IndexIVFFlat(quantizer, d, nlist)\n",
    "assert not index.is_trained\n",
    "index.train(a)\n",
    "assert index.is_trained\n",
    "\n",
    "index.add(a)                  # add may be a bit slower as well\n",
    "# D, I = index.search(xq, k)     # actual search\n",
    "# print(I[-5:])                  # neighbors of the 5 last queries\n",
    "# index.nprobe = 10              # default nprobe is 1, try a few more\n",
    "# D, I = index.search(xq, k)\n",
    "# print(I[-5:])                  # neighbors of the 5 last queries\n"
   ]
  },
  {
   "cell_type": "code",
   "execution_count": 138,
   "id": "bc9a4f4b-8db6-47a5-b0c3-bdb019b6d508",
   "metadata": {},
   "outputs": [
    {
     "data": {
      "text/plain": [
       "(1, 5)"
      ]
     },
     "execution_count": 138,
     "metadata": {},
     "output_type": "execute_result"
    }
   ],
   "source": [
    "np.expand_dims(descriptors, axis=0).shape"
   ]
  },
  {
   "cell_type": "code",
   "execution_count": 142,
   "id": "10c32779-b14d-4749-a895-ba5d1509e30c",
   "metadata": {},
   "outputs": [
    {
     "data": {
      "text/plain": [
       "(-62.10416666666667+95.45833333333331j)"
      ]
     },
     "execution_count": 142,
     "metadata": {},
     "output_type": "execute_result"
    }
   ],
   "source": [
    "descriptors[0]"
   ]
  },
  {
   "cell_type": "code",
   "execution_count": 150,
   "id": "e9d18f71-0725-4d13-b92d-3db71d340e4b",
   "metadata": {},
   "outputs": [
    {
     "data": {
      "text/plain": [
       "(10,)"
      ]
     },
     "execution_count": 150,
     "metadata": {},
     "output_type": "execute_result"
    }
   ],
   "source": [
    "real_vectors = np.concatenate((np.real(descriptors), np.imag(descriptors)), axis=0)\n",
    "real_vectors"
   ]
  },
  {
   "cell_type": "code",
   "execution_count": null,
   "id": "32ad3514-93a3-4a4f-92b3-2f10e68e153d",
   "metadata": {},
   "outputs": [],
   "source": []
  }
 ],
 "metadata": {
  "kernelspec": {
   "display_name": "Python 3 (ipykernel)",
   "language": "python",
   "name": "python3"
  },
  "language_info": {
   "codemirror_mode": {
    "name": "ipython",
    "version": 3
   },
   "file_extension": ".py",
   "mimetype": "text/x-python",
   "name": "python",
   "nbconvert_exporter": "python",
   "pygments_lexer": "ipython3",
   "version": "3.11.5"
  }
 },
 "nbformat": 4,
 "nbformat_minor": 5
}
